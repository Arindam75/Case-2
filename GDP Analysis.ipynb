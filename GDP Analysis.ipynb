{
 "cells": [
  {
   "cell_type": "markdown",
   "metadata": {},
   "source": [
    "### Import State-Wise GDP at Current Price\n",
    "\n",
    "This data has been saved as Data1.csv. We first import the pandas library and then read the csv file.<br> We then use the DataFrame.head() method to check out the first few rows of the dataframe. "
   ]
  },
  {
   "cell_type": "code",
   "execution_count": 144,
   "metadata": {},
   "outputs": [
    {
     "data": {
      "text/html": [
       "<div>\n",
       "<style scoped>\n",
       "    .dataframe tbody tr th:only-of-type {\n",
       "        vertical-align: middle;\n",
       "    }\n",
       "\n",
       "    .dataframe tbody tr th {\n",
       "        vertical-align: top;\n",
       "    }\n",
       "\n",
       "    .dataframe thead th {\n",
       "        text-align: right;\n",
       "    }\n",
       "</style>\n",
       "<table border=\"1\" class=\"dataframe\">\n",
       "  <thead>\n",
       "    <tr style=\"text-align: right;\">\n",
       "      <th></th>\n",
       "      <th>Items  Description</th>\n",
       "      <th>Duration</th>\n",
       "      <th>Andhra Pradesh</th>\n",
       "      <th>Arunachal Pradesh</th>\n",
       "      <th>Assam</th>\n",
       "      <th>Bihar</th>\n",
       "      <th>Chhattisgarh</th>\n",
       "      <th>Goa</th>\n",
       "      <th>Gujarat</th>\n",
       "      <th>Haryana</th>\n",
       "      <th>...</th>\n",
       "      <th>Telangana</th>\n",
       "      <th>Tripura</th>\n",
       "      <th>Uttar Pradesh</th>\n",
       "      <th>Uttarakhand</th>\n",
       "      <th>West Bengal1</th>\n",
       "      <th>Andaman &amp; Nicobar Islands</th>\n",
       "      <th>Chandigarh</th>\n",
       "      <th>Delhi</th>\n",
       "      <th>Puducherry</th>\n",
       "      <th>All_India GDP</th>\n",
       "    </tr>\n",
       "  </thead>\n",
       "  <tbody>\n",
       "    <tr>\n",
       "      <th>0</th>\n",
       "      <td>GSDP - CURRENT PRICES (` in Crore)</td>\n",
       "      <td>2011-12</td>\n",
       "      <td>379402.0</td>\n",
       "      <td>11063.0</td>\n",
       "      <td>143175.0</td>\n",
       "      <td>247144.0</td>\n",
       "      <td>158074.0</td>\n",
       "      <td>42367.0</td>\n",
       "      <td>615606.0</td>\n",
       "      <td>297539.0</td>\n",
       "      <td>...</td>\n",
       "      <td>359433.0</td>\n",
       "      <td>19208.0</td>\n",
       "      <td>724049.0</td>\n",
       "      <td>115523.0</td>\n",
       "      <td>NaN</td>\n",
       "      <td>3979.0</td>\n",
       "      <td>18768.0</td>\n",
       "      <td>343767.0</td>\n",
       "      <td>16818.0</td>\n",
       "      <td>8736039.0</td>\n",
       "    </tr>\n",
       "    <tr>\n",
       "      <th>1</th>\n",
       "      <td>GSDP - CURRENT PRICES (` in Crore)</td>\n",
       "      <td>2012-13</td>\n",
       "      <td>411404.0</td>\n",
       "      <td>12547.0</td>\n",
       "      <td>156864.0</td>\n",
       "      <td>282368.0</td>\n",
       "      <td>177511.0</td>\n",
       "      <td>38120.0</td>\n",
       "      <td>724495.0</td>\n",
       "      <td>347032.0</td>\n",
       "      <td>...</td>\n",
       "      <td>401493.0</td>\n",
       "      <td>21663.0</td>\n",
       "      <td>822903.0</td>\n",
       "      <td>131835.0</td>\n",
       "      <td>NaN</td>\n",
       "      <td>4421.0</td>\n",
       "      <td>21609.0</td>\n",
       "      <td>391238.0</td>\n",
       "      <td>18875.0</td>\n",
       "      <td>9946636.0</td>\n",
       "    </tr>\n",
       "    <tr>\n",
       "      <th>2</th>\n",
       "      <td>GSDP - CURRENT PRICES (` in Crore)</td>\n",
       "      <td>2013-14</td>\n",
       "      <td>464272.0</td>\n",
       "      <td>14602.0</td>\n",
       "      <td>177745.0</td>\n",
       "      <td>317101.0</td>\n",
       "      <td>206690.0</td>\n",
       "      <td>35921.0</td>\n",
       "      <td>807623.0</td>\n",
       "      <td>400662.0</td>\n",
       "      <td>...</td>\n",
       "      <td>452186.0</td>\n",
       "      <td>25593.0</td>\n",
       "      <td>944146.0</td>\n",
       "      <td>149817.0</td>\n",
       "      <td>NaN</td>\n",
       "      <td>5159.0</td>\n",
       "      <td>24787.0</td>\n",
       "      <td>443783.0</td>\n",
       "      <td>21870.0</td>\n",
       "      <td>11236635.0</td>\n",
       "    </tr>\n",
       "  </tbody>\n",
       "</table>\n",
       "<p>3 rows × 36 columns</p>\n",
       "</div>"
      ],
      "text/plain": [
       "                   Items  Description Duration  Andhra Pradesh   \\\n",
       "0  GSDP - CURRENT PRICES (` in Crore)  2011-12         379402.0   \n",
       "1  GSDP - CURRENT PRICES (` in Crore)  2012-13         411404.0   \n",
       "2  GSDP - CURRENT PRICES (` in Crore)  2013-14         464272.0   \n",
       "\n",
       "   Arunachal Pradesh     Assam     Bihar  Chhattisgarh      Goa   Gujarat  \\\n",
       "0            11063.0  143175.0  247144.0      158074.0  42367.0  615606.0   \n",
       "1            12547.0  156864.0  282368.0      177511.0  38120.0  724495.0   \n",
       "2            14602.0  177745.0  317101.0      206690.0  35921.0  807623.0   \n",
       "\n",
       "    Haryana      ...        Telangana  Tripura  Uttar Pradesh  Uttarakhand  \\\n",
       "0  297539.0      ...         359433.0  19208.0       724049.0     115523.0   \n",
       "1  347032.0      ...         401493.0  21663.0       822903.0     131835.0   \n",
       "2  400662.0      ...         452186.0  25593.0       944146.0     149817.0   \n",
       "\n",
       "   West Bengal1  Andaman & Nicobar Islands  Chandigarh     Delhi  Puducherry  \\\n",
       "0           NaN                     3979.0     18768.0  343767.0     16818.0   \n",
       "1           NaN                     4421.0     21609.0  391238.0     18875.0   \n",
       "2           NaN                     5159.0     24787.0  443783.0     21870.0   \n",
       "\n",
       "   All_India GDP  \n",
       "0      8736039.0  \n",
       "1      9946636.0  \n",
       "2     11236635.0  \n",
       "\n",
       "[3 rows x 36 columns]"
      ]
     },
     "execution_count": 144,
     "metadata": {},
     "output_type": "execute_result"
    }
   ],
   "source": [
    "import pandas as pd\n",
    "import numpy as np\n",
    "\n",
    "df=pd.read_csv('Data1.csv')\n",
    "df.head(3)"
   ]
  },
  {
   "cell_type": "markdown",
   "metadata": {},
   "source": [
    "This is not a very friendly format. Eventually we would want, one row for each state, with yearly __GSDP__ and __Growth Rates__ appearing as columns. To do that we look at the first two columns carrying the items and the years.\n",
    "\n",
    "We can merge them into one column. For example\n",
    ">1.GSDP - CURRENT PRICES (` in Crore) and 2011-12 can be merged into GSDP_2012.<br>\n",
    ">2.(% Growth over previous year) and 2012-13 can be merged into Growth_2012.<br>\n",
    "\n",
    "To do this, we define a function merge_cols and apply them to the dataframe, so that we have a new column 'Metric'. Then we can drop the columns __'Items  Description','Duration','All_India GDP'__\n",
    "\n",
    "We also need to drop the column for __West Bengal1__ as there is no data at all. Even the GSVA files also have no data for West Bengal"
   ]
  },
  {
   "cell_type": "code",
   "execution_count": 145,
   "metadata": {},
   "outputs": [],
   "source": [
    "def merge_cols(row):\n",
    "    \n",
    "    if row['Items  Description'].find('GSDP')==0:\n",
    "        y='GSDP_'+row['Duration'][0:4]\n",
    "        return y\n",
    "    else:\n",
    "        y='Growth_'+row['Duration'][0:4]\n",
    "        return y\n",
    "\n",
    "df['Metric']= df.apply(merge_cols, axis=1)\n",
    "df=df.drop(['Items  Description','Duration','All_India GDP','West Bengal1'],axis=1)"
   ]
  },
  {
   "cell_type": "markdown",
   "metadata": {},
   "source": [
    "We now __transpose__ the dataframe, so that we can use the state-names are used as Index and the column 'Metric' becomes the header. This new dataframe is named __my_df__."
   ]
  },
  {
   "cell_type": "code",
   "execution_count": 146,
   "metadata": {},
   "outputs": [],
   "source": [
    "my_hdrs=list(df.Metric)\n",
    "df.drop(['Metric'], axis=1,inplace=True)\n",
    "my_df=df.T\n",
    "my_df.columns=my_hdrs"
   ]
  },
  {
   "cell_type": "markdown",
   "metadata": {},
   "source": [
    "We inspect the new data-frame my_df and shows a much more friendly format. We can use the state-names for merge operations coming up later."
   ]
  },
  {
   "cell_type": "code",
   "execution_count": 147,
   "metadata": {},
   "outputs": [
    {
     "data": {
      "text/html": [
       "<div>\n",
       "<style scoped>\n",
       "    .dataframe tbody tr th:only-of-type {\n",
       "        vertical-align: middle;\n",
       "    }\n",
       "\n",
       "    .dataframe tbody tr th {\n",
       "        vertical-align: top;\n",
       "    }\n",
       "\n",
       "    .dataframe thead th {\n",
       "        text-align: right;\n",
       "    }\n",
       "</style>\n",
       "<table border=\"1\" class=\"dataframe\">\n",
       "  <thead>\n",
       "    <tr style=\"text-align: right;\">\n",
       "      <th></th>\n",
       "      <th>GSDP_2011</th>\n",
       "      <th>GSDP_2012</th>\n",
       "      <th>GSDP_2013</th>\n",
       "      <th>GSDP_2014</th>\n",
       "      <th>GSDP_2015</th>\n",
       "      <th>GSDP_2016</th>\n",
       "      <th>Growth_2012</th>\n",
       "      <th>Growth_2013</th>\n",
       "      <th>Growth_2014</th>\n",
       "      <th>Growth_2015</th>\n",
       "      <th>Growth_2016</th>\n",
       "    </tr>\n",
       "  </thead>\n",
       "  <tbody>\n",
       "    <tr>\n",
       "      <th>Andhra Pradesh</th>\n",
       "      <td>379402.0</td>\n",
       "      <td>411404.0</td>\n",
       "      <td>464272.0</td>\n",
       "      <td>526468.0</td>\n",
       "      <td>609934.0</td>\n",
       "      <td>699307.0</td>\n",
       "      <td>8.43</td>\n",
       "      <td>12.85</td>\n",
       "      <td>13.40</td>\n",
       "      <td>15.85</td>\n",
       "      <td>14.65</td>\n",
       "    </tr>\n",
       "    <tr>\n",
       "      <th>Arunachal Pradesh</th>\n",
       "      <td>11063.0</td>\n",
       "      <td>12547.0</td>\n",
       "      <td>14602.0</td>\n",
       "      <td>16761.0</td>\n",
       "      <td>18784.0</td>\n",
       "      <td>NaN</td>\n",
       "      <td>13.41</td>\n",
       "      <td>16.38</td>\n",
       "      <td>14.79</td>\n",
       "      <td>12.07</td>\n",
       "      <td>NaN</td>\n",
       "    </tr>\n",
       "    <tr>\n",
       "      <th>Assam</th>\n",
       "      <td>143175.0</td>\n",
       "      <td>156864.0</td>\n",
       "      <td>177745.0</td>\n",
       "      <td>198098.0</td>\n",
       "      <td>224234.0</td>\n",
       "      <td>NaN</td>\n",
       "      <td>9.56</td>\n",
       "      <td>13.31</td>\n",
       "      <td>11.45</td>\n",
       "      <td>13.19</td>\n",
       "      <td>NaN</td>\n",
       "    </tr>\n",
       "    <tr>\n",
       "      <th>Bihar</th>\n",
       "      <td>247144.0</td>\n",
       "      <td>282368.0</td>\n",
       "      <td>317101.0</td>\n",
       "      <td>373920.0</td>\n",
       "      <td>413503.0</td>\n",
       "      <td>NaN</td>\n",
       "      <td>14.25</td>\n",
       "      <td>12.30</td>\n",
       "      <td>17.92</td>\n",
       "      <td>10.59</td>\n",
       "      <td>NaN</td>\n",
       "    </tr>\n",
       "    <tr>\n",
       "      <th>Chhattisgarh</th>\n",
       "      <td>158074.0</td>\n",
       "      <td>177511.0</td>\n",
       "      <td>206690.0</td>\n",
       "      <td>234982.0</td>\n",
       "      <td>260776.0</td>\n",
       "      <td>290140.0</td>\n",
       "      <td>12.30</td>\n",
       "      <td>16.44</td>\n",
       "      <td>13.69</td>\n",
       "      <td>10.98</td>\n",
       "      <td>11.26</td>\n",
       "    </tr>\n",
       "  </tbody>\n",
       "</table>\n",
       "</div>"
      ],
      "text/plain": [
       "                   GSDP_2011  GSDP_2012  GSDP_2013  GSDP_2014  GSDP_2015  \\\n",
       "Andhra Pradesh      379402.0   411404.0   464272.0   526468.0   609934.0   \n",
       "Arunachal Pradesh    11063.0    12547.0    14602.0    16761.0    18784.0   \n",
       "Assam               143175.0   156864.0   177745.0   198098.0   224234.0   \n",
       "Bihar               247144.0   282368.0   317101.0   373920.0   413503.0   \n",
       "Chhattisgarh        158074.0   177511.0   206690.0   234982.0   260776.0   \n",
       "\n",
       "                   GSDP_2016  Growth_2012  Growth_2013  Growth_2014  \\\n",
       "Andhra Pradesh      699307.0         8.43        12.85        13.40   \n",
       "Arunachal Pradesh        NaN        13.41        16.38        14.79   \n",
       "Assam                    NaN         9.56        13.31        11.45   \n",
       "Bihar                    NaN        14.25        12.30        17.92   \n",
       "Chhattisgarh        290140.0        12.30        16.44        13.69   \n",
       "\n",
       "                   Growth_2015  Growth_2016  \n",
       "Andhra Pradesh           15.85        14.65  \n",
       "Arunachal Pradesh        12.07          NaN  \n",
       "Assam                    13.19          NaN  \n",
       "Bihar                    10.59          NaN  \n",
       "Chhattisgarh             10.98        11.26  "
      ]
     },
     "execution_count": 147,
     "metadata": {},
     "output_type": "execute_result"
    }
   ],
   "source": [
    "my_df.head()"
   ]
  },
  {
   "cell_type": "markdown",
   "metadata": {},
   "source": [
    "# Part 1\n",
    "\n",
    "__Calculate the average growth of states over the duration 2013-14, 2014-15 and 2015-16 by taking the mean of the row '(% Growth over previous year)'. Compare the calculated value and plot it for the states.__\n",
    "\n",
    "To do this, we take the row-wise mean from column __Growth_2013__ to __Growth_2015__ and put into a column __Avg_Growth__."
   ]
  },
  {
   "cell_type": "code",
   "execution_count": 148,
   "metadata": {},
   "outputs": [],
   "source": [
    "import seaborn as sns\n",
    "import matplotlib.pyplot as plt\n",
    "\n",
    "col=my_df.loc[:,'Growth_2013':'Growth_2015']\n",
    "my_df['Avg_Growth']=col.mean(axis=1)\n"
   ]
  },
  {
   "cell_type": "markdown",
   "metadata": {},
   "source": [
    "### Missing Data\n",
    "\n",
    "We notice that many states do not have the GSDP value for 2015, as required to be plot. So we use the average growth calculated above to estimate the 2015 GSDP, wherever its missing."
   ]
  },
  {
   "cell_type": "code",
   "execution_count": 149,
   "metadata": {},
   "outputs": [],
   "source": [
    "\n",
    "def missing_gdp(row):\n",
    "    if np.isnan(row['GSDP_2015']):\n",
    "        return row['GSDP_2014']*(1+(row['Avg_Growth']/100))\n",
    "    else:\n",
    "        return row['GSDP_2015']\n",
    "\n",
    "my_df['GSDP_2015']=my_df.apply(missing_gdp,axis=1)\n",
    "my_df.sort_values(['GSDP_2015'], ascending=False,inplace=True)"
   ]
  },
  {
   "cell_type": "markdown",
   "metadata": {},
   "source": [
    "Now that we have replaced the missing GSDP for 2015 with an estimate using the average growth rates, we can plot the Average Growth Rate and Total GDP state_wise"
   ]
  },
  {
   "cell_type": "code",
   "execution_count": 152,
   "metadata": {
    "scrolled": false
   },
   "outputs": [
    {
     "data": {
      "text/plain": [
       "<matplotlib.axes._subplots.AxesSubplot at 0x2b11b76c908>"
      ]
     },
     "execution_count": 152,
     "metadata": {},
     "output_type": "execute_result"
    },
    {
     "data": {
      "image/png": "[encoded data removed]",
      "text/plain": [
       "<Figure size 1440x1152 with 2 Axes>"
      ]
     },
     "metadata": {},
     "output_type": "display_data"
    }
   ],
   "source": [
    "fig, ax = plt.subplots(1,2,figsize=(20, 16),sharey=True)\n",
    "\n",
    "sns.set(style=\"darkgrid\")\n",
    "sns.barplot(x='Avg_Growth', y=my_df.index, data=my_df,orient='h',ax=ax[1])\n",
    "sns.barplot(x='GSDP_2015', y=my_df.index, data=my_df,palette=\"BuGn_r\",orient='h',ax=ax[0])"
   ]
  },
  {
   "cell_type": "markdown",
   "metadata": {},
   "source": [
    "### Top and Bottom states in terms of GSDP"
   ]
  },
  {
   "cell_type": "code",
   "execution_count": 143,
   "metadata": {},
   "outputs": [
    {
     "name": "stdout",
     "output_type": "stream",
     "text": [
      "Top 5 States in terms of GSDP\n",
      "['Maharashtra', 'Tamil Nadu', 'Uttar Pradesh', 'Karnataka', 'Gujarat']\n",
      "Bottom 5 States in terms of GSDP\n",
      "['Manipur', 'Arunachal Pradesh', 'Sikkim', 'Mizoram', 'Andaman & Nicobar Islands']\n"
     ]
    }
   ],
   "source": [
    "print('Top 5 States in terms of GSDP')\n",
    "print(list(my_df.head(5).index))\n",
    "print('Bottom 5 States in terms of GSDP')\n",
    "print(list(my_df.tail(5).index))"
   ]
  }
 ],
 "metadata": {
  "kernelspec": {
   "display_name": "Python 3",
   "language": "python",
   "name": "python3"
  },
  "language_info": {
   "codemirror_mode": {
    "name": "ipython",
    "version": 3
   },
   "file_extension": ".py",
   "mimetype": "text/x-python",
   "name": "python",
   "nbconvert_exporter": "python",
   "pygments_lexer": "ipython3",
   "version": "3.7.1"
  }
 },
 "nbformat": 4,
 "nbformat_minor": 2
}
